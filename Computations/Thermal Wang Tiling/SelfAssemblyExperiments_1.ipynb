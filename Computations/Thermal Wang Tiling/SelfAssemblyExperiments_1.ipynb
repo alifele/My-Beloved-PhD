{
 "cells": [
  {
   "metadata": {
    "ExecuteTime": {
     "end_time": "2025-08-01T03:55:33.799121Z",
     "start_time": "2025-08-01T03:55:33.407516Z"
    }
   },
   "cell_type": "code",
   "source": [
    "import random\n",
    "import math\n",
    "from collections import defaultdict\n",
    "import matplotlib.pyplot as plt\n",
    "import matplotlib.patches as patches\n",
    "\n",
    "\n",
    "\n",
    "# ---- Tile Definition ----\n",
    "\n",
    "class Tile:\n",
    "    def __init__(self, north, east, south, west, name='T'):\n",
    "        self.glues = {'N': north, 'E': east, 'S': south, 'W': west}\n",
    "        self.name = name\n",
    "\n",
    "    def get_glue(self, direction):\n",
    "        return self.glues[direction]\n",
    "\n",
    "\n",
    "# ---- Assembly Class ----\n",
    "\n",
    "class AssemblyWithGlueInteractions:\n",
    "    def __init__(self, tile_set):\n",
    "        self.asmbDict = defaultdict(lambda: None)\n",
    "        self.boundaryTiles = set()\n",
    "        self.tile_set = tile_set\n",
    "        self.seed_pos = (0, 0)\n",
    "        self.asmbDict[self.seed_pos] = tile_set[0]\n",
    "        self.update_boundary(self.seed_pos)\n",
    "\n",
    "    def neighbor_positions(self, x, y):\n",
    "        return {\n",
    "            'N': (x, y + 1),\n",
    "            'E': (x + 1, y),\n",
    "            'S': (x, y - 1),\n",
    "            'W': (x - 1, y)\n",
    "        }\n",
    "\n",
    "    def update_boundary(self, pos):\n",
    "        x, y = pos\n",
    "        for direction, (nx, ny) in self.neighbor_positions(x, y).items():\n",
    "            if self.asmbDict[(nx, ny)] is None:\n",
    "                self.boundaryTiles.add((nx, ny))\n",
    "        if self.asmbDict[pos]:\n",
    "            self.boundaryTiles.discard(pos)\n",
    "\n",
    "    def glue_energy(self, g1, g2):\n",
    "        return GLUE_INTERACTION[GLUE_INDEX[g1]][GLUE_INDEX[g2]]\n",
    "\n",
    "    def local_energy(self, tile, x, y):\n",
    "        energy = 0\n",
    "        for direction, (nx, ny) in self.neighbor_positions(x, y).items():\n",
    "            neighbor = self.asmbDict[(nx, ny)]\n",
    "            g1 = tile.get_glue(direction)\n",
    "            if neighbor:\n",
    "                g2 = neighbor.get_glue({'N': 'S', 'S': 'N', 'E': 'W', 'W': 'E'}[direction])\n",
    "                energy += self.glue_energy(g1, g2)\n",
    "            else:\n",
    "                energy += GLUE_BINDING_TO_FREE.get(g1, 0)\n",
    "        return energy\n",
    "\n",
    "    def grow_step(self):\n",
    "        if not self.boundaryTiles:\n",
    "            return\n",
    "\n",
    "        (x, y) = random.choice(list(self.boundaryTiles))\n",
    "        current_tile = self.asmbDict[(x, y)]\n",
    "\n",
    "        # Attempt disconnection if tile exists\n",
    "        if current_tile:\n",
    "            energy_connected = self.local_energy(current_tile, x, y)\n",
    "            deltaE = -energy_connected\n",
    "            if deltaE < 0 or random.random() < math.exp(-deltaE / TEMPERATURE):\n",
    "                self.asmbDict[(x, y)] = None\n",
    "                self.boundaryTiles.add((x, y))\n",
    "                return\n",
    "\n",
    "        # Attempt attachment\n",
    "        candidates = []\n",
    "        weights = []\n",
    "        for tile in self.tile_set:\n",
    "            mu = chem_potentials[tile.name]\n",
    "            energy = self.local_energy(tile, x, y)\n",
    "            boltzmann_weight = math.exp(-(energy - mu) / TEMPERATURE)\n",
    "            candidates.append(tile)\n",
    "            weights.append(boltzmann_weight)\n",
    "\n",
    "        total_weight = sum(weights)\n",
    "        if total_weight == 0:\n",
    "            return\n",
    "\n",
    "        probabilities = [w / total_weight for w in weights]\n",
    "        chosen_tile = random.choices(candidates, weights=probabilities, k=1)[0]\n",
    "        self.asmbDict[(x, y)] = chosen_tile\n",
    "        self.update_boundary((x, y))\n",
    "\n",
    "    def grow(self, steps):\n",
    "        for _ in range(steps):\n",
    "            self.grow_step()\n",
    "\n",
    "\n",
    "\n",
    "# ---- Plotting ----\n",
    "\n",
    "def plot_assembly(assembly, tile_size=1.0):\n",
    "    fig, ax = plt.subplots(figsize=(4, 4))\n",
    "    for (x, y), tile in assembly.asmbDict.items():\n",
    "        if tile:\n",
    "            rect = patches.Rectangle((x * tile_size, y * tile_size),\n",
    "                                     tile_size, tile_size,\n",
    "                                     linewidth=1,\n",
    "                                     edgecolor='black',\n",
    "                                     facecolor=colorMap.get(tile.name, 'gray'))\n",
    "            ax.add_patch(rect)\n",
    "    ax.set_aspect('equal')\n",
    "    ax.set_xlim(-15, 15)\n",
    "    ax.set_ylim(-15, 15)\n",
    "    ax.set_axis_off()\n",
    "    # plt.grid(True)\n",
    "    plt.show()\n",
    "\n",
    "\n",
    "\n"
   ],
   "id": "31aed492b570eb99",
   "outputs": [],
   "execution_count": 1
  },
  {
   "metadata": {
    "ExecuteTime": {
     "end_time": "2025-08-01T03:55:35.136921Z",
     "start_time": "2025-08-01T03:55:35.127562Z"
    }
   },
   "cell_type": "code",
   "source": [
    "# ---- Configuration ----\n",
    "\n",
    "TEMPERATURE = 0.1  # Thermal energy k_B T\n",
    "\n",
    "# Glue types and interactions\n",
    "GLUE_TYPES = ['A', 'B', 'C', 'D']\n",
    "GLUE_INDEX = {g: i for i, g in enumerate(GLUE_TYPES)}\n",
    "\n",
    "# Symmetric glue-glue interaction matrix\n",
    "GLUE_INTERACTION = [\n",
    "#   A    B    C    D\n",
    "    [0.3, 0.0, 0.0, 0.0],  # A\n",
    "    [0.0, 0.0, 0.0, 0.0],  # B\n",
    "    [0.0, 0.0, 0.0, 0.0],  # C\n",
    "    [0.0, 0.0, 0.0, 0.0],  # D\n",
    "]\n",
    "\n",
    "# Glue binding to free space\n",
    "GLUE_BINDING_TO_FREE = {'A': 0.0, 'B': 0.0, 'C': 0.0, 'D': 0.0}\n",
    "\n",
    "# Tile chemical potentials\n",
    "chem_potentials = {\"Seed\": 0.0, \"T1\": 2.0, \"T2\": 0.0, \"T3\": 0.0, \"T4\": 0.0}\n",
    "\n",
    "# Color map for plotting\n",
    "colorMap = {\"Seed\": \"red\", \"T1\": \"green\", \"T2\": \"blue\", \"T3\": \"yellow\", \"T4\": \"cyan\"}\n"
   ],
   "id": "213dae8d80586c56",
   "outputs": [],
   "execution_count": 2
  },
  {
   "metadata": {
    "ExecuteTime": {
     "end_time": "2025-08-01T03:55:40.107081Z",
     "start_time": "2025-08-01T03:55:40.034740Z"
    }
   },
   "cell_type": "code",
   "source": [
    "# ---- Tile Set ----\n",
    "\n",
    "tiles = [\n",
    "    Tile('A', 'A', 'A', 'A', name='Seed'),  # seed\n",
    "    Tile('A', 'A', 'A', 'A', name='T1'),    # growth tile\n",
    "    Tile('B', 'B', 'B', 'B', name='T2'),    # blocked\n",
    "    Tile('C', 'C', 'C', 'C', name='T3'),    # blocked\n",
    "    Tile('D', 'D', 'D', 'D', name='T4'),    # blocked\n",
    "]\n",
    "\n",
    "\n",
    "# ---- Run Simulation ----\n",
    "\n",
    "glue_based_assembly = AssemblyWithGlueInteractions(tiles)\n",
    "glue_based_assembly.grow(steps=40)\n",
    "plot_assembly(glue_based_assembly, tile_size=1.0)\n"
   ],
   "id": "ca0eb39a82c1fa72",
   "outputs": [
    {
     "data": {
      "text/plain": [
       "<Figure size 400x400 with 1 Axes>"
      ],
      "image/png": "[encoded data removed]"
     },
     "metadata": {},
     "output_type": "display_data"
    }
   ],
   "execution_count": 4
  },
  {
   "metadata": {
    "ExecuteTime": {
     "end_time": "2025-07-31T23:15:10.313944Z",
     "start_time": "2025-07-31T23:15:10.310778Z"
    }
   },
   "cell_type": "code",
   "source": "",
   "id": "cdfcc3607154cabd",
   "outputs": [],
   "execution_count": null
  },
  {
   "metadata": {},
   "cell_type": "code",
   "outputs": [],
   "execution_count": null,
   "source": "",
   "id": "fe348d80ab064d2f"
  }
 ],
 "metadata": {
  "kernelspec": {
   "display_name": "Python 3",
   "language": "python",
   "name": "python3"
  },
  "language_info": {
   "codemirror_mode": {
    "name": "ipython",
    "version": 2
   },
   "file_extension": ".py",
   "mimetype": "text/x-python",
   "name": "python",
   "nbconvert_exporter": "python",
   "pygments_lexer": "ipython2",
   "version": "2.7.6"
  }
 },
 "nbformat": 4,
 "nbformat_minor": 5
}
