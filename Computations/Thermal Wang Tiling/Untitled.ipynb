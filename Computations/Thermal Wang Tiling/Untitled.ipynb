{
 "cells": [
  {
   "cell_type": "code",
   "execution_count": 175,
   "id": "f0decd17-2509-4f5e-892d-2291b17e2360",
   "metadata": {},
   "outputs": [],
   "source": [
    "import random\n",
    "from collections import defaultdict\n",
    "import numpy as np\n",
    "# ---- Configuration ----\n",
    "\n",
    "TEMPERATURE = 0.5  # Minimum total glue strength required to bind\n",
    "GRID_SIZE = 50   # Grid size (for visualization and boundary)\n",
    "GLUE_STRENGTH = {\n",
    "    ('A', 'A'): 2,\n",
    "    ('B', 'B'): 1,\n",
    "    ('C', 'C'): 1,\n",
    "    ('D', 'D'): 2,\n",
    "    # Add cross-pairings as 0\n",
    "}\n",
    "\n",
    "# ---- Data Structures ----\n",
    "\n",
    "class Tile:\n",
    "    def __init__(self, north, east, south, west, name='T'):\n",
    "        self.glues = {'N': north, 'E': east, 'S': south, 'W': west}\n",
    "        self.name = name\n",
    "        self.isBoundry = None\n",
    "\n",
    "    def get_glue(self, direction):\n",
    "        return self.glues[direction]\n",
    "\n",
    "class Assembly:\n",
    "    def __init__(self, tile_set, glue_strengths, temperature):\n",
    "        self.asmbDict = defaultdict(lambda: None)\n",
    "        self.boundaryTiles = dict()\n",
    "        self.tile_set = tile_set\n",
    "        self.glue_strength = glue_strengths\n",
    "        self.temperature = temperature\n",
    "        self.seed_pos = (0, 0)\n",
    "        self.asmbDict[self.seed_pos] = tile_set[0]  # First tile is the seed\n",
    "\n",
    "\n",
    "    def neighbor_positions(self, x, y):\n",
    "        return {\n",
    "            'N': (x, y + 1),\n",
    "            'E': (x + 1, y),\n",
    "            'S': (x, y - 1),\n",
    "            'W': (x - 1, y)\n",
    "        }\n",
    "\n",
    "    def try_attach_tile(self, x, y):\n",
    "        if self.asmbDict[(x, y)] is not None:\n",
    "            return  # already filled\n",
    "        neighbor_pos = self.neighbor_positions(x, y)\n",
    "        best_tile = None\n",
    "        candidates = []\n",
    "        for tile in self.tile_set:\n",
    "            strength = 0\n",
    "            for direction, (nx, ny) in neighbor_pos.items():\n",
    "                neighbor = self.asmbDict[(nx, ny)]\n",
    "                if neighbor:\n",
    "                    opposite = {'N': 'S', 'S': 'N', 'E': 'W', 'W': 'E'}[direction]\n",
    "                    g1 = tile.get_glue(direction)\n",
    "                    g2 = neighbor.get_glue(opposite)\n",
    "                    strength += self.glue_strength.get((g1, g2), 0)\n",
    "            if strength >= self.temperature:\n",
    "                candidates.append((tile, strength))\n",
    "        if candidates:\n",
    "            tile, _ = random.choice(candidates)\n",
    "            self.asmbDict[(x, y)] = tile\n",
    "\n",
    "    def grow(self):\n",
    "        # Get current tiles and try to attach at neighboring empty spots\n",
    "        current_tiles = list(self.asmbDict.items())\n",
    "        for (x, y), tile in current_tiles:\n",
    "            for nx, ny in self.neighbor_positions(x, y).values():\n",
    "                self.try_attach_tile(nx, ny)\n"
   ]
  },
  {
   "cell_type": "code",
   "execution_count": 176,
   "id": "dc68ef50-7b4a-48d8-8107-6a08099c2cc4",
   "metadata": {},
   "outputs": [
    {
     "data": {
      "image/png": "[encoded data removed]",
      "text/plain": [
       "<Figure size 640x480 with 1 Axes>"
      ]
     },
     "metadata": {},
     "output_type": "display_data"
    }
   ],
   "source": [
    "# ---- Tile Set ----\n",
    "\n",
    "tiles = [\n",
    "    Tile('A', 'B', 'A', 'C', name='Seed'),  # seed tile\n",
    "    Tile('A', 'C', 'A', 'C', name='T1'),\n",
    "    Tile('B', 'B', 'C', 'A', name='T2'),\n",
    "    Tile('C', 'A', 'B', 'B', name='T3'),\n",
    "    Tile('D', 'D', 'D', 'D', name='T4')\n",
    "]\n",
    "colorMap = {\"Seed\":\"r\", \"T1\":\"g\", \"T2\":\"b\", \"T3\":\"y\"}\n",
    "\n",
    "\n",
    "# ---- Run Assembly ----\n",
    "\n",
    "assembly = Assembly(tiles, GLUE_STRENGTH, TEMPERATURE)\n",
    "\n",
    "for _ in range(7):\n",
    "    assembly.grow()\n",
    "\n",
    "\n",
    "\n",
    "xs, ys, labels = zip(*[(x, y, (colorMap[tile.name] if tile!=None else \"k\")) for (x, y), tile in assembly.asmbDict.items()])\n",
    "# colors = [colorMap[label] for label in labels]\n",
    "\n",
    "plt.scatter(xs, ys, s=40, c=labels, marker=\"s\")\n",
    "\n",
    "plt.title(\"Stochastic Wang Tiling\")\n",
    "plt.axis('equal')\n",
    "plt.show()\n",
    "\n"
   ]
  },
  {
   "cell_type": "code",
   "execution_count": 177,
   "id": "262ad2d1-d176-441f-adb3-2d4398ecf37a",
   "metadata": {},
   "outputs": [
    {
     "data": {
      "text/plain": [
       "14"
      ]
     },
     "execution_count": 177,
     "metadata": {},
     "output_type": "execute_result"
    }
   ],
   "source": [
    "np.max(ys)"
   ]
  },
  {
   "cell_type": "code",
   "execution_count": null,
   "id": "6c90b567-ff37-4b7c-9d6c-f2361c9581c3",
   "metadata": {},
   "outputs": [],
   "source": []
  },
  {
   "cell_type": "code",
   "execution_count": null,
   "id": "805741f5-8f0c-4bfc-9b90-91da04719139",
   "metadata": {},
   "outputs": [],
   "source": [
    "    "
   ]
  },
  {
   "cell_type": "code",
   "execution_count": null,
   "id": "1d38790c-4bff-4040-9dfa-287442eac088",
   "metadata": {},
   "outputs": [],
   "source": []
  },
  {
   "cell_type": "code",
   "execution_count": null,
   "id": "c7278489-2c71-4228-800d-226ad935fe68",
   "metadata": {},
   "outputs": [],
   "source": []
  },
  {
   "cell_type": "code",
   "execution_count": null,
   "id": "36c5e890-b2ce-4371-8d31-1ce7f415b5f1",
   "metadata": {},
   "outputs": [],
   "source": []
  },
  {
   "cell_type": "code",
   "execution_count": null,
   "id": "597aefec-1946-48ea-945c-5c67ebf21d01",
   "metadata": {},
   "outputs": [],
   "source": []
  },
  {
   "cell_type": "code",
   "execution_count": null,
   "id": "b7cf852a-4f5a-4068-934d-625f45658654",
   "metadata": {},
   "outputs": [],
   "source": []
  },
  {
   "cell_type": "code",
   "execution_count": 162,
   "id": "b13481e6-c3fe-42cc-aa54-05d0326f9a1f",
   "metadata": {},
   "outputs": [],
   "source": [
    "a = defaultdict(lambda:None)"
   ]
  },
  {
   "cell_type": "code",
   "execution_count": 165,
   "id": "69d25d83-b4f3-4b5c-9e82-ae11d02af960",
   "metadata": {},
   "outputs": [],
   "source": [
    "a[1]; a[2]; a[3]"
   ]
  },
  {
   "cell_type": "code",
   "execution_count": 166,
   "id": "72071129-17f5-4080-a487-8fbf914d449d",
   "metadata": {},
   "outputs": [
    {
     "data": {
      "text/plain": [
       "dict_items([(1, None), (2, None), (3, None)])"
      ]
     },
     "execution_count": 166,
     "metadata": {},
     "output_type": "execute_result"
    }
   ],
   "source": [
    "a.items()"
   ]
  },
  {
   "cell_type": "code",
   "execution_count": 171,
   "id": "1152b26c-2633-4c1f-b49a-aa88a80acd01",
   "metadata": {},
   "outputs": [
    {
     "data": {
      "text/plain": [
       "0"
      ]
     },
     "execution_count": 171,
     "metadata": {},
     "output_type": "execute_result"
    }
   ],
   "source": [
    "a.get(5,0)"
   ]
  },
  {
   "cell_type": "code",
   "execution_count": null,
   "id": "018361ab-335a-49c6-9788-408bd218c78f",
   "metadata": {},
   "outputs": [],
   "source": []
  },
  {
   "cell_type": "code",
   "execution_count": null,
   "id": "b9d4d084-63f6-45f6-b3d3-10275feb537c",
   "metadata": {},
   "outputs": [],
   "source": []
  },
  {
   "cell_type": "code",
   "execution_count": null,
   "id": "569c3d76-319f-4a0a-b405-54550fb8cb57",
   "metadata": {},
   "outputs": [],
   "source": []
  },
  {
   "cell_type": "code",
   "execution_count": null,
   "id": "e5389f62-66a7-4eb1-90f3-627f59a2e481",
   "metadata": {},
   "outputs": [],
   "source": []
  },
  {
   "cell_type": "code",
   "execution_count": null,
   "id": "3d8b9fa1-91dc-4a8f-b3fd-af55edc59c53",
   "metadata": {},
   "outputs": [],
   "source": []
  },
  {
   "cell_type": "code",
   "execution_count": null,
   "id": "4a7eb395-c680-4951-8ee4-263542628de3",
   "metadata": {},
   "outputs": [],
   "source": []
  },
  {
   "cell_type": "code",
   "execution_count": 63,
   "id": "9df30595-f944-4a82-aeec-2e83bc291015",
   "metadata": {},
   "outputs": [],
   "source": [
    "a = dict()"
   ]
  },
  {
   "cell_type": "code",
   "execution_count": 67,
   "id": "a52b3999-25ef-4514-8834-3facf48f801c",
   "metadata": {},
   "outputs": [
    {
     "data": {
      "text/plain": [
       "['__class__',\n",
       " '__class_getitem__',\n",
       " '__contains__',\n",
       " '__delattr__',\n",
       " '__delitem__',\n",
       " '__dir__',\n",
       " '__doc__',\n",
       " '__eq__',\n",
       " '__format__',\n",
       " '__ge__',\n",
       " '__getattribute__',\n",
       " '__getitem__',\n",
       " '__gt__',\n",
       " '__hash__',\n",
       " '__init__',\n",
       " '__init_subclass__',\n",
       " '__ior__',\n",
       " '__iter__',\n",
       " '__le__',\n",
       " '__len__',\n",
       " '__lt__',\n",
       " '__ne__',\n",
       " '__new__',\n",
       " '__or__',\n",
       " '__reduce__',\n",
       " '__reduce_ex__',\n",
       " '__repr__',\n",
       " '__reversed__',\n",
       " '__ror__',\n",
       " '__setattr__',\n",
       " '__setitem__',\n",
       " '__sizeof__',\n",
       " '__str__',\n",
       " '__subclasshook__',\n",
       " 'clear',\n",
       " 'copy',\n",
       " 'fromkeys',\n",
       " 'get',\n",
       " 'items',\n",
       " 'keys',\n",
       " 'pop',\n",
       " 'popitem',\n",
       " 'setdefault',\n",
       " 'update',\n",
       " 'values']"
      ]
     },
     "execution_count": 67,
     "metadata": {},
     "output_type": "execute_result"
    }
   ],
   "source": [
    "dir(a)"
   ]
  },
  {
   "cell_type": "code",
   "execution_count": null,
   "id": "30360cd6-caa3-43b4-8d76-12e16237a8a2",
   "metadata": {},
   "outputs": [],
   "source": []
  }
 ],
 "metadata": {
  "kernelspec": {
   "display_name": "Python 3 (ipykernel)",
   "language": "python",
   "name": "python3"
  },
  "language_info": {
   "codemirror_mode": {
    "name": "ipython",
    "version": 3
   },
   "file_extension": ".py",
   "mimetype": "text/x-python",
   "name": "python",
   "nbconvert_exporter": "python",
   "pygments_lexer": "ipython3",
   "version": "3.10.12"
  }
 },
 "nbformat": 4,
 "nbformat_minor": 5
}
