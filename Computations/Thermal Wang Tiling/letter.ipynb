{
 "cells": [
  {
   "cell_type": "code",
   "execution_count": null,
   "id": "initial_id",
   "metadata": {
    "collapsed": true
   },
   "outputs": [],
   "source": [
    ""
   ]
  },
  {
   "metadata": {
    "ExecuteTime": {
     "end_time": "2025-08-01T04:03:43.109177Z",
     "start_time": "2025-08-01T04:03:43.064697Z"
    }
   },
   "cell_type": "code",
   "source": [
    "import numpy as np\n",
    "import matplotlib.pyplot as plt\n",
    "import matplotlib.patches as patches\n",
    "\n",
    "class Tile:\n",
    "    def __init__(self, north, east, south, west, name):\n",
    "        self.glues = {'N': north, 'E': east, 'S': south, 'W': west}\n",
    "        self.name = name\n",
    "\n",
    "    def get_glue(self, direction):\n",
    "        return self.glues[direction]\n",
    "\n",
    "\n",
    "class AddressableAssembly:\n",
    "    def __init__(self, tile_map):\n",
    "        self.tile_map = tile_map  # (x,y) → Tile\n",
    "        self.asmbDict = {}\n",
    "        self.seed_pos = (0, 0)\n",
    "        self.asmbDict[self.seed_pos] = self.tile_map[self.seed_pos]\n",
    "        self.boundary = set(self.get_empty_neighbors(self.seed_pos))\n",
    "\n",
    "    def get_empty_neighbors(self, pos):\n",
    "        x, y = pos\n",
    "        neighbors = [(x+1,y),(x-1,y),(x,y+1),(x,y-1)]\n",
    "        return [(nx, ny) for nx, ny in neighbors if (nx, ny) in self.tile_map and (nx, ny) not in self.asmbDict]\n",
    "\n",
    "    def grow_step(self):\n",
    "        if not self.boundary:\n",
    "            return\n",
    "        pos = self.boundary.pop()\n",
    "        tile = self.tile_map[pos]\n",
    "\n",
    "        # Check all 4 neighbors\n",
    "        x, y = pos\n",
    "        compatible = True\n",
    "        for dir, (dx, dy), opp in zip('NESW', [(0,1),(1,0),(0,-1),(-1,0)], 'SNEW'):\n",
    "            neighbor = self.asmbDict.get((x+dx, y+dy))\n",
    "            if neighbor:\n",
    "                if neighbor.get_glue(opp) != tile.get_glue(dir):\n",
    "                    compatible = False\n",
    "                    break\n",
    "        if compatible:\n",
    "            self.asmbDict[pos] = tile\n",
    "            self.boundary.update(self.get_empty_neighbors(pos))\n",
    "\n",
    "    def grow(self, steps=1000):\n",
    "        for _ in range(steps):\n",
    "            self.grow_step()\n",
    "\n",
    "    def plot(self):\n",
    "        fig, ax = plt.subplots()\n",
    "        for (x, y), tile in self.asmbDict.items():\n",
    "            rect = patches.Rectangle((x, -y), 1, 1, edgecolor='black', facecolor='yellow')\n",
    "            ax.add_patch(rect)\n",
    "            ax.text(x+0.5, -y+0.5, tile.name, ha='center', va='center', fontsize=8)\n",
    "        ax.set_aspect('equal')\n",
    "        ax.autoscale()\n",
    "        ax.axis('off')\n",
    "        plt.show()\n",
    "\n",
    "\n",
    "# Create pattern of 'A'\n",
    "letter = np.array([\n",
    "    [0, 0, 1, 0, 0],\n",
    "    [0, 1, 0, 1, 0],\n",
    "    [1, 1, 1, 1, 0],\n",
    "    [1, 0, 0, 0, 1],\n",
    "    [1, 0, 0, 0, 1]\n",
    "])\n",
    "\n",
    "def glue_name(x, y, dir):\n",
    "    return f\"G_{x}_{y}_{dir}\"\n",
    "\n",
    "tile_map = {}\n",
    "H, W = letter.shape\n",
    "for y in range(H):\n",
    "    for x in range(W):\n",
    "        if letter[y, x] == 1:\n",
    "            north = glue_name(x, y-1, 'S') if y > 0 and letter[y-1, x] == 1 else '0'\n",
    "            south = glue_name(x, y+1, 'N') if y < H-1 and letter[y+1, x] == 1 else '0'\n",
    "            east  = glue_name(x+1, y, 'W') if x < W-1 and letter[y, x+1] == 1 else '0'\n",
    "            west  = glue_name(x-1, y, 'E') if x > 0 and letter[y, x-1] == 1 else '0'\n",
    "            name = f\"{x},{y}\"\n",
    "            tile_map[(x, y)] = Tile(north, east, south, west, name)\n",
    "\n",
    "# Set (0,0) as seed\n",
    "# Shift all tiles so the seed is at (0, 0)\n",
    "seed_old_pos = list(tile_map.keys())[0]  # first filled pixel\n",
    "x0, y0 = seed_old_pos\n",
    "\n",
    "# Create new tile map with shifted coordinates\n",
    "shifted_tile_map = {}\n",
    "for (x, y), tile in tile_map.items():\n",
    "    new_pos = (x - x0, y - y0)\n",
    "    new_tile = Tile(\n",
    "        tile.glues['N'],\n",
    "        tile.glues['E'],\n",
    "        tile.glues['S'],\n",
    "        tile.glues['W'],\n",
    "        tile.name\n",
    "    )\n",
    "    shifted_tile_map[new_pos] = new_tile\n",
    "\n",
    "tile_map = shifted_tile_map  # Replace with shifted map\n",
    "assembly = AddressableAssembly(tile_map)\n",
    "assembly.grow()\n",
    "assembly.plot()\n"
   ],
   "id": "b4909b2ae8be2226",
   "outputs": [
    {
     "data": {
      "text/plain": [
       "<Figure size 640x480 with 1 Axes>"
      ],
      "image/png": "[encoded data removed]"
     },
     "metadata": {},
     "output_type": "display_data"
    }
   ],
   "execution_count": 4
  },
  {
   "metadata": {
    "ExecuteTime": {
     "end_time": "2025-08-01T17:36:19.321409Z",
     "start_time": "2025-08-01T17:36:19.319460Z"
    }
   },
   "cell_type": "code",
   "source": "",
   "id": "ae503782ed20ba6e",
   "outputs": [],
   "execution_count": null
  },
  {
   "metadata": {
    "ExecuteTime": {
     "end_time": "2025-08-01T17:36:19.436031Z",
     "start_time": "2025-08-01T17:36:19.434170Z"
    }
   },
   "cell_type": "code",
   "source": "",
   "id": "4cd5a0062f016596",
   "outputs": [],
   "execution_count": null
  },
  {
   "metadata": {
    "ExecuteTime": {
     "end_time": "2025-08-01T17:36:19.492089Z",
     "start_time": "2025-08-01T17:36:19.490252Z"
    }
   },
   "cell_type": "code",
   "source": "",
   "id": "3505772e685a7f16",
   "outputs": [],
   "execution_count": null
  },
  {
   "metadata": {
    "ExecuteTime": {
     "end_time": "2025-08-01T17:36:23.650241Z",
     "start_time": "2025-08-01T17:36:23.647395Z"
    }
   },
   "cell_type": "code",
   "source": [
    "a = dict()\n",
    "a[1] = 2\n"
   ],
   "id": "f7571d1486878b9d",
   "outputs": [],
   "execution_count": 1
  },
  {
   "metadata": {
    "ExecuteTime": {
     "end_time": "2025-08-01T17:36:32.459918Z",
     "start_time": "2025-08-01T17:36:32.457416Z"
    }
   },
   "cell_type": "code",
   "source": "len(a.items())",
   "id": "7a36ed93ad3cb153",
   "outputs": [
    {
     "data": {
      "text/plain": [
       "1"
      ]
     },
     "execution_count": 3,
     "metadata": {},
     "output_type": "execute_result"
    }
   ],
   "execution_count": 3
  },
  {
   "metadata": {},
   "cell_type": "code",
   "outputs": [],
   "execution_count": null,
   "source": "",
   "id": "f3fecc5e5458f5e8"
  }
 ],
 "metadata": {
  "kernelspec": {
   "display_name": "Python 3",
   "language": "python",
   "name": "python3"
  },
  "language_info": {
   "codemirror_mode": {
    "name": "ipython",
    "version": 2
   },
   "file_extension": ".py",
   "mimetype": "text/x-python",
   "name": "python",
   "nbconvert_exporter": "python",
   "pygments_lexer": "ipython2",
   "version": "2.7.6"
  }
 },
 "nbformat": 4,
 "nbformat_minor": 5
}
